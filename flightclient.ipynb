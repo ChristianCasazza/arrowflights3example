{
 "cells": [
  {
   "cell_type": "code",
   "execution_count": 2,
   "metadata": {},
   "outputs": [],
   "source": [
    "import pyarrow.flight as flight\n",
    "import pyarrow as pa\n",
    "import duckdb\n",
    "import pandas as pd\n",
    "\n",
    "# Connect to the Flight server using the private IPv4 address\n",
    "client = flight.connect(\"grpc://public_ip_address:8815\")\n",
    "\n",
    "# List available flights\n",
    "print(\"Available Flights:\")\n",
    "flights = client.list_flights()\n",
    "for f in flights:\n",
    "    print(f.descriptor.path)"
   ]
  },
  {
   "cell_type": "code",
   "execution_count": null,
   "metadata": {},
   "outputs": [],
   "source": [
    "# List available flights\n",
    "print(\"Available Flights:\")\n",
    "flights = client.list_flights()\n",
    "flight_descriptors = []\n",
    "for f in flights:\n",
    "    print(f.descriptor.path)\n",
    "    flight_descriptors.append(f.descriptor)\n",
    "\n",
    "if len(flight_descriptors) > 0:\n",
    "    # Get the first flight from the list of available flights\n",
    "    flight_descriptor = flight_descriptors[0]\n",
    "    print(\"Selected Flight Descriptor:\", flight_descriptor)\n",
    "\n",
    "    # Get the flight info for the selected flight\n",
    "    flight_info = client.get_flight_info(flight_descriptor)\n",
    "    print(\"Flight Info:\", flight_info)\n",
    "\n",
    "    # Get the endpoint from the flight info\n",
    "    endpoint = flight_info.endpoints[0]\n",
    "    print(\"Endpoint:\", endpoint)\n",
    "\n",
    "    # Get the ticket from the endpoint\n",
    "    ticket = endpoint.ticket\n",
    "    print(\"Ticket:\", ticket)\n",
    "else:\n",
    "    print(\"No available flights found.\")"
   ]
  },
  {
   "cell_type": "code",
   "execution_count": null,
   "metadata": {},
   "outputs": [],
   "source": [
    "if len(flight_descriptors) > 0:\n",
    "    # Get the data from the flight\n",
    "    print(\"Downloading data...\")\n",
    "    reader = client.do_get(ticket)\n",
    "\n",
    "    # Read the data into an Arrow table\n",
    "    table = reader.read_all()\n",
    "    print(\"Data downloaded successfully.\")\n",
    "    print(\"Downloaded data:\")\n",
    "    print(table)\n",
    "else:\n",
    "    print(\"No flight selected.\")"
   ]
  },
  {
   "cell_type": "code",
   "execution_count": null,
   "metadata": {},
   "outputs": [],
   "source": [
    "# Create a DuckDB connection\n",
    "con = duckdb.connect()\n",
    "\n",
    "# Register the Arrow table as a view in DuckDB\n",
    "con.register_arrow(\"my_table\", table)\n",
    "\n",
    "# Query the table using DuckDB and fetch the first 20 rows\n",
    "query = \"SELECT * FROM my_table LIMIT 20\"\n",
    "result = con.execute(query).fetchdf()\n",
    "\n",
    "# Display the query result using Pandas\n",
    "print(\"Query Result:\")\n",
    "print(pd.DataFrame(result))"
   ]
  }
 ],
 "metadata": {
  "kernelspec": {
   "display_name": "arrowflights3example-Q5Q1yZuJ-py3.10",
   "language": "python",
   "name": "python3"
  },
  "language_info": {
   "codemirror_mode": {
    "name": "ipython",
    "version": 3
   },
   "file_extension": ".py",
   "mimetype": "text/x-python",
   "name": "python",
   "nbconvert_exporter": "python",
   "pygments_lexer": "ipython3",
   "version": "3.10.12"
  }
 },
 "nbformat": 4,
 "nbformat_minor": 2
}
